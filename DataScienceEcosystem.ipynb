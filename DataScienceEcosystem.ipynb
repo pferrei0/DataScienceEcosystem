{
 "cells": [
  {
   "cell_type": "markdown",
   "id": "5ca1ed3a",
   "metadata": {},
   "source": [
    "# Data Science Tools and Ecosystem"
   ]
  },
  {
   "cell_type": "markdown",
   "id": "27727e5a",
   "metadata": {},
   "source": [
    "# Introduction"
   ]
  },
  {
   "cell_type": "markdown",
   "id": "11030b52",
   "metadata": {},
   "source": [
    "In this notebook, we provide a comprehensive summary of \n",
    "Data Science Tools and the Ecosystem. We'll delve into \n",
    "various programming languages, libraries, frameworks, and \n",
    "platforms that are indispensable for data scientists, \n",
    "offering insights into their functionalities \n",
    "and applications within the field of data science.\n"
   ]
  },
  {
   "cell_type": "markdown",
   "id": "8aa7a27a",
   "metadata": {},
   "source": [
    " ### Objectives: "
   ]
  },
  {
   "cell_type": "markdown",
   "id": "1db5d7c5",
   "metadata": {},
   "source": [
    "* python\n",
    "* SQL\n",
    "* R"
   ]
  },
  {
   "cell_type": "markdown",
   "id": "a616a86a",
   "metadata": {},
   "source": [
    "Some of the popular languages that Data Scientists use are:"
   ]
  },
  {
   "cell_type": "markdown",
   "id": "14ca8300",
   "metadata": {},
   "source": [
    "python\n",
    "SQL\n",
    "R"
   ]
  },
  {
   "cell_type": "markdown",
   "id": "16b82939",
   "metadata": {},
   "source": [
    "Some of the commonly used libraries used by Data Scientists include:"
   ]
  },
  {
   "cell_type": "markdown",
   "id": "345a959e",
   "metadata": {},
   "source": [
    "TensorFlow.\n",
    "SciPy.\n",
    "NumPy.\n",
    "Pandas.\n",
    "Pytorch"
   ]
  },
  {
   "cell_type": "markdown",
   "id": "11d60d76",
   "metadata": {},
   "source": [
    "## Data Science Tools "
   ]
  },
  {
   "cell_type": "markdown",
   "id": "bcc94cc1",
   "metadata": {},
   "source": [
    "| Data Science Tools    |\n",
    "|-----------------------|\n",
    "| Jupyter Notebooks     |\n",
    "| RStudio               |\n",
    "| Apache Zeppelin       |\n"
   ]
  },
  {
   "cell_type": "markdown",
   "id": "89b09b56",
   "metadata": {},
   "source": [
    "### Below are a few examples of evaluating arithmetic expressions in Python "
   ]
  },
  {
   "cell_type": "code",
   "execution_count": 6,
   "id": "424489cb",
   "metadata": {},
   "outputs": [
    {
     "name": "stdout",
     "output_type": "stream",
     "text": [
      "17\n",
      "True\n"
     ]
    }
   ],
   "source": [
    "# This a simple arithmetic expression to mutiply then add integers\n",
    "eval = (3*4)+5\n",
    "print(eval)\n",
    "print(eval==17)"
   ]
  },
  {
   "cell_type": "code",
   "execution_count": 7,
   "id": "f5e96ade",
   "metadata": {},
   "outputs": [
    {
     "name": "stdout",
     "output_type": "stream",
     "text": [
      "3.3333333333333335\n"
     ]
    }
   ],
   "source": [
    "# This will convert 200 minutes to hours by diving by 60\n",
    "\n",
    "print(200 / 60)"
   ]
  },
  {
   "cell_type": "markdown",
   "id": "64d8750e",
   "metadata": {},
   "source": [
    "## Author\n",
    "name: Paulo Ferreira"
   ]
  },
  {
   "cell_type": "code",
   "execution_count": null,
   "id": "80f3c23b",
   "metadata": {},
   "outputs": [],
   "source": []
  }
 ],
 "metadata": {
  "kernelspec": {
   "display_name": "Python 3 (ipykernel)",
   "language": "python",
   "name": "python3"
  },
  "language_info": {
   "codemirror_mode": {
    "name": "ipython",
    "version": 3
   },
   "file_extension": ".py",
   "mimetype": "text/x-python",
   "name": "python",
   "nbconvert_exporter": "python",
   "pygments_lexer": "ipython3",
   "version": "3.9.7"
  }
 },
 "nbformat": 4,
 "nbformat_minor": 5
}
